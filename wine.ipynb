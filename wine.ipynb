{
 "cells": [
  {
   "cell_type": "code",
   "execution_count": 18,
   "metadata": {},
   "outputs": [
    {
     "data": {
      "text/plain": [
       "dict_keys(['data', 'target', 'frame', 'target_names', 'DESCR', 'feature_names'])"
      ]
     },
     "execution_count": 18,
     "metadata": {},
     "output_type": "execute_result"
    }
   ],
   "source": [
    "import matplotlib.pyplot as plt\n",
    "import numpy as np\n",
    "import pandas as pd\n",
    "%matplotlib inline\n",
    "from sklearn.preprocessing import MinMaxScaler\n",
    "from sklearn.preprocessing import StandardScaler\n",
    "from sklearn.decomposition import PCA\n",
    "from sklearn.datasets import load_wine\n",
    "from sklearn.manifold import MDS\n",
    "from sklearn.metrics import accuracy_score\n",
    "from sklearn.model_selection import train_test_split\n",
    "from sklearn.discriminant_analysis import LinearDiscriminantAnalysis as LDA\n",
    "from sklearn.ensemble import RandomForestClassifier\n",
    "\n",
    "\n",
    "wine = load_wine()\n",
    "\n",
    "wine.keys()"
   ]
  },
  {
   "cell_type": "code",
   "execution_count": 19,
   "metadata": {},
   "outputs": [
    {
     "data": {
      "text/html": [
       "<div>\n",
       "<style scoped>\n",
       "    .dataframe tbody tr th:only-of-type {\n",
       "        vertical-align: middle;\n",
       "    }\n",
       "\n",
       "    .dataframe tbody tr th {\n",
       "        vertical-align: top;\n",
       "    }\n",
       "\n",
       "    .dataframe thead th {\n",
       "        text-align: right;\n",
       "    }\n",
       "</style>\n",
       "<table border=\"1\" class=\"dataframe\">\n",
       "  <thead>\n",
       "    <tr style=\"text-align: right;\">\n",
       "      <th></th>\n",
       "      <th>alcohol</th>\n",
       "      <th>malic_acid</th>\n",
       "      <th>ash</th>\n",
       "      <th>alcalinity_of_ash</th>\n",
       "      <th>magnesium</th>\n",
       "      <th>total_phenols</th>\n",
       "      <th>flavanoids</th>\n",
       "      <th>nonflavanoid_phenols</th>\n",
       "      <th>proanthocyanins</th>\n",
       "      <th>color_intensity</th>\n",
       "      <th>hue</th>\n",
       "      <th>od280/od315_of_diluted_wines</th>\n",
       "      <th>proline</th>\n",
       "    </tr>\n",
       "  </thead>\n",
       "  <tbody>\n",
       "    <tr>\n",
       "      <th>0</th>\n",
       "      <td>14.23</td>\n",
       "      <td>1.71</td>\n",
       "      <td>2.43</td>\n",
       "      <td>15.6</td>\n",
       "      <td>127.0</td>\n",
       "      <td>2.80</td>\n",
       "      <td>3.06</td>\n",
       "      <td>0.28</td>\n",
       "      <td>2.29</td>\n",
       "      <td>5.64</td>\n",
       "      <td>1.04</td>\n",
       "      <td>3.92</td>\n",
       "      <td>1065.0</td>\n",
       "    </tr>\n",
       "    <tr>\n",
       "      <th>1</th>\n",
       "      <td>13.20</td>\n",
       "      <td>1.78</td>\n",
       "      <td>2.14</td>\n",
       "      <td>11.2</td>\n",
       "      <td>100.0</td>\n",
       "      <td>2.65</td>\n",
       "      <td>2.76</td>\n",
       "      <td>0.26</td>\n",
       "      <td>1.28</td>\n",
       "      <td>4.38</td>\n",
       "      <td>1.05</td>\n",
       "      <td>3.40</td>\n",
       "      <td>1050.0</td>\n",
       "    </tr>\n",
       "    <tr>\n",
       "      <th>2</th>\n",
       "      <td>13.16</td>\n",
       "      <td>2.36</td>\n",
       "      <td>2.67</td>\n",
       "      <td>18.6</td>\n",
       "      <td>101.0</td>\n",
       "      <td>2.80</td>\n",
       "      <td>3.24</td>\n",
       "      <td>0.30</td>\n",
       "      <td>2.81</td>\n",
       "      <td>5.68</td>\n",
       "      <td>1.03</td>\n",
       "      <td>3.17</td>\n",
       "      <td>1185.0</td>\n",
       "    </tr>\n",
       "    <tr>\n",
       "      <th>3</th>\n",
       "      <td>14.37</td>\n",
       "      <td>1.95</td>\n",
       "      <td>2.50</td>\n",
       "      <td>16.8</td>\n",
       "      <td>113.0</td>\n",
       "      <td>3.85</td>\n",
       "      <td>3.49</td>\n",
       "      <td>0.24</td>\n",
       "      <td>2.18</td>\n",
       "      <td>7.80</td>\n",
       "      <td>0.86</td>\n",
       "      <td>3.45</td>\n",
       "      <td>1480.0</td>\n",
       "    </tr>\n",
       "    <tr>\n",
       "      <th>4</th>\n",
       "      <td>13.24</td>\n",
       "      <td>2.59</td>\n",
       "      <td>2.87</td>\n",
       "      <td>21.0</td>\n",
       "      <td>118.0</td>\n",
       "      <td>2.80</td>\n",
       "      <td>2.69</td>\n",
       "      <td>0.39</td>\n",
       "      <td>1.82</td>\n",
       "      <td>4.32</td>\n",
       "      <td>1.04</td>\n",
       "      <td>2.93</td>\n",
       "      <td>735.0</td>\n",
       "    </tr>\n",
       "  </tbody>\n",
       "</table>\n",
       "</div>"
      ],
      "text/plain": [
       "   alcohol  malic_acid   ash  alcalinity_of_ash  magnesium  total_phenols  \\\n",
       "0    14.23        1.71  2.43               15.6      127.0           2.80   \n",
       "1    13.20        1.78  2.14               11.2      100.0           2.65   \n",
       "2    13.16        2.36  2.67               18.6      101.0           2.80   \n",
       "3    14.37        1.95  2.50               16.8      113.0           3.85   \n",
       "4    13.24        2.59  2.87               21.0      118.0           2.80   \n",
       "\n",
       "   flavanoids  nonflavanoid_phenols  proanthocyanins  color_intensity   hue  \\\n",
       "0        3.06                  0.28             2.29             5.64  1.04   \n",
       "1        2.76                  0.26             1.28             4.38  1.05   \n",
       "2        3.24                  0.30             2.81             5.68  1.03   \n",
       "3        3.49                  0.24             2.18             7.80  0.86   \n",
       "4        2.69                  0.39             1.82             4.32  1.04   \n",
       "\n",
       "   od280/od315_of_diluted_wines  proline  \n",
       "0                          3.92   1065.0  \n",
       "1                          3.40   1050.0  \n",
       "2                          3.17   1185.0  \n",
       "3                          3.45   1480.0  \n",
       "4                          2.93    735.0  "
      ]
     },
     "execution_count": 19,
     "metadata": {},
     "output_type": "execute_result"
    }
   ],
   "source": [
    "#print(wine['DESCR'])\n",
    "\n",
    "df = pd.DataFrame(wine.data, columns = wine.feature_names)\n",
    "\n",
    "df.head()"
   ]
  },
  {
   "cell_type": "code",
   "execution_count": 20,
   "metadata": {},
   "outputs": [
    {
     "data": {
      "text/plain": [
       "array(['class_0', 'class_1', 'class_2'], dtype='<U7')"
      ]
     },
     "execution_count": 20,
     "metadata": {},
     "output_type": "execute_result"
    }
   ],
   "source": [
    "#Target name\n",
    "wine.target_names"
   ]
  },
  {
   "cell_type": "code",
   "execution_count": 21,
   "metadata": {
    "scrolled": false
   },
   "outputs": [
    {
     "data": {
      "text/plain": [
       "array([0, 0, 0, 0, 0, 0, 0, 0, 0, 0, 0, 0, 0, 0, 0, 0, 0, 0, 0, 0, 0, 0,\n",
       "       0, 0, 0, 0, 0, 0, 0, 0, 0, 0, 0, 0, 0, 0, 0, 0, 0, 0, 0, 0, 0, 0,\n",
       "       0, 0, 0, 0, 0, 0, 0, 0, 0, 0, 0, 0, 0, 0, 0, 1, 1, 1, 1, 1, 1, 1,\n",
       "       1, 1, 1, 1, 1, 1, 1, 1, 1, 1, 1, 1, 1, 1, 1, 1, 1, 1, 1, 1, 1, 1,\n",
       "       1, 1, 1, 1, 1, 1, 1, 1, 1, 1, 1, 1, 1, 1, 1, 1, 1, 1, 1, 1, 1, 1,\n",
       "       1, 1, 1, 1, 1, 1, 1, 1, 1, 1, 1, 1, 1, 1, 1, 1, 1, 1, 1, 1, 2, 2,\n",
       "       2, 2, 2, 2, 2, 2, 2, 2, 2, 2, 2, 2, 2, 2, 2, 2, 2, 2, 2, 2, 2, 2,\n",
       "       2, 2, 2, 2, 2, 2, 2, 2, 2, 2, 2, 2, 2, 2, 2, 2, 2, 2, 2, 2, 2, 2,\n",
       "       2, 2])"
      ]
     },
     "execution_count": 21,
     "metadata": {},
     "output_type": "execute_result"
    }
   ],
   "source": [
    "#List of class\n",
    "target = wine.target\n",
    "target"
   ]
  },
  {
   "cell_type": "code",
   "execution_count": 22,
   "metadata": {},
   "outputs": [],
   "source": [
    "X_train, X_test, y_train, y_test = train_test_split(df, target, test_size=0.2, random_state=0)"
   ]
  },
  {
   "cell_type": "markdown",
   "metadata": {},
   "source": [
    "#Target name\n",
    "wine.target_name"
   ]
  },
  {
   "cell_type": "code",
   "execution_count": 23,
   "metadata": {},
   "outputs": [],
   "source": [
    "sc = StandardScaler()\n",
    "X_train = sc.fit_transform(X_train)\n",
    "X_test = sc.transform(X_test)"
   ]
  },
  {
   "cell_type": "code",
   "execution_count": 24,
   "metadata": {},
   "outputs": [
    {
     "data": {
      "text/plain": [
       "(142, 13)"
      ]
     },
     "execution_count": 24,
     "metadata": {},
     "output_type": "execute_result"
    }
   ],
   "source": [
    "X_train.shape"
   ]
  },
  {
   "cell_type": "code",
   "execution_count": 25,
   "metadata": {},
   "outputs": [
    {
     "data": {
      "text/plain": [
       "PCA(n_components=2)"
      ]
     },
     "execution_count": 25,
     "metadata": {},
     "output_type": "execute_result"
    }
   ],
   "source": [
    "'''\n",
    "-Use different method reduction\n",
    "- compute their accurancy\n",
    "- Compare different accurancy and take that one has hight \n",
    "'''\n",
    "pca = PCA(n_components=2)\n",
    "X_train = pca.fit_transform(X_train)\n",
    "X_test = pca.transform(X_test)\n",
    "\n",
    "classifier = RandomForestClassifier(max_depth=2, random_state=0)\n",
    "classifier.fit(X_train, y_train)\n",
    "y_pred = classifier.predict(X_test)\n",
    "pca.fit(X_train)"
   ]
  },
  {
   "cell_type": "code",
   "execution_count": 26,
   "metadata": {
    "scrolled": true
   },
   "outputs": [
    {
     "name": "stdout",
     "output_type": "stream",
     "text": [
      "Accuracy 0.9722222222222222\n"
     ]
    }
   ],
   "source": [
    "#Accuracy PCA\n",
    "print('Accuracy', accuracy_score(y_test, y_pred))"
   ]
  },
  {
   "cell_type": "code",
   "execution_count": 27,
   "metadata": {},
   "outputs": [
    {
     "data": {
      "text/plain": [
       "(36, 2)"
      ]
     },
     "execution_count": 27,
     "metadata": {},
     "output_type": "execute_result"
    }
   ],
   "source": [
    "X_test.shape"
   ]
  },
  {
   "cell_type": "code",
   "execution_count": 28,
   "metadata": {},
   "outputs": [
    {
     "data": {
      "text/plain": [
       "(142, 2)"
      ]
     },
     "execution_count": 28,
     "metadata": {},
     "output_type": "execute_result"
    }
   ],
   "source": [
    "X_train.shape"
   ]
  },
  {
   "cell_type": "code",
   "execution_count": 29,
   "metadata": {},
   "outputs": [
    {
     "data": {
      "text/plain": [
       "Text(0, 0.5, 'Second principle component')"
      ]
     },
     "execution_count": 29,
     "metadata": {},
     "output_type": "execute_result"
    },
    {
     "data": {
      "image/png": "[encoded data removed]",
      "text/plain": [
       "<Figure size 576x432 with 1 Axes>"
      ]
     },
     "metadata": {
      "needs_background": "light"
     },
     "output_type": "display_data"
    }
   ],
   "source": [
    "plt.figure(figsize=(8,6))\n",
    "plt.scatter(X_train[:,0],X_train[:,1],c=y_train)\n",
    "plt.xlabel('First principle component')\n",
    "plt.ylabel('Second principle component')"
   ]
  },
  {
   "cell_type": "code",
   "execution_count": 30,
   "metadata": {},
   "outputs": [
    {
     "data": {
      "text/plain": [
       "array([0.65627164, 0.34372836])"
      ]
     },
     "execution_count": 30,
     "metadata": {},
     "output_type": "execute_result"
    }
   ],
   "source": [
    "'''\n",
    "We convert 13 dimensional space to 2 dimensional space, we lose some of the information.\n",
    "By using the attribute explained_variance_ratio_, we can see that the first principal component contains 36.19% of the variance and the second principal component contains 19.20% of the variance.\n",
    "Together, the two components contain 55.40% of the information.\n",
    "'''\n",
    "pca.explained_variance_ratio_"
   ]
  },
  {
   "cell_type": "code",
   "execution_count": 31,
   "metadata": {},
   "outputs": [
    {
     "name": "stdout",
     "output_type": "stream",
     "text": [
      "Accuracy 1.0\n"
     ]
    }
   ],
   "source": [
    "#LDA Part\n",
    "X_train, X_test, y_train, y_test = train_test_split(df, target, test_size=0.2, random_state=0)\n",
    "sc = StandardScaler()\n",
    "X_train = sc.fit_transform(X_train)\n",
    "X_test = sc.transform(X_test)\n",
    "lda = LDA(n_components=2)\n",
    "X_train = lda.fit_transform(X_train, y_train)\n",
    "X_test = lda.transform(X_test)\n",
    "\n",
    "classifier = RandomForestClassifier(max_depth=2, random_state=0)\n",
    "classifier.fit(X_train, y_train)\n",
    "y_pred = classifier.predict(X_test)\n",
    "\n",
    "print('Accuracy ' + str(accuracy_score(y_test, y_pred)))\n"
   ]
  },
  {
   "cell_type": "code",
   "execution_count": 32,
   "metadata": {},
   "outputs": [
    {
     "data": {
      "text/plain": [
       "Text(0, 0.5, 'Second principle component')"
      ]
     },
     "execution_count": 32,
     "metadata": {},
     "output_type": "execute_result"
    },
    {
     "data": {
      "image/png": "[encoded data removed]",
      "text/plain": [
       "<Figure size 576x432 with 1 Axes>"
      ]
     },
     "metadata": {
      "needs_background": "light"
     },
     "output_type": "display_data"
    }
   ],
   "source": [
    "plt.figure(figsize=(8,6))\n",
    "plt.scatter(X_train[:,0],X_train[:,1],c=y_train)\n",
    "plt.xlabel('First principle component')\n",
    "plt.ylabel('Second principle component')"
   ]
  },
  {
   "cell_type": "code",
   "execution_count": 33,
   "metadata": {},
   "outputs": [
    {
     "name": "stdout",
     "output_type": "stream",
     "text": [
      "[[-1.29237716e+02 -2.92807707e+02]\n",
      " [-1.37488839e+02 -2.70425187e+02]\n",
      " [-2.15961834e+02 -3.81109727e+02]\n",
      " [-3.74692551e+02 -6.30293924e+02]\n",
      " [ 2.52312528e+01 -4.27566618e-01]\n",
      " [-3.61873050e+02 -6.02951082e+02]\n",
      " [-2.75337087e+02 -4.68154051e+02]\n",
      " [-2.86996651e+02 -4.67317237e+02]\n",
      " [-1.31243139e+02 -2.68092714e+02]\n",
      " [-1.32908397e+02 -2.67163162e+02]\n",
      " [-3.77840237e+02 -6.63083143e+02]\n",
      " [-2.72803225e+02 -4.57869923e+02]\n",
      " [-2.98904465e+02 -4.89142395e+02]\n",
      " [-2.00948299e+02 -3.49533313e+02]\n",
      " [-4.07032987e+02 -6.88943451e+02]\n",
      " [-2.79640076e+02 -4.88976554e+02]\n",
      " [-2.53704576e+02 -4.69427323e+02]\n",
      " [-1.73911943e+02 -3.41981803e+02]\n",
      " [-3.98771902e+02 -8.43077191e+02]\n",
      " [-4.00834649e+01 -9.03395876e+01]\n",
      " [ 9.40500551e+00 -4.32994585e+01]\n",
      " [-5.57872772e+00 -2.33056929e+01]\n",
      " [-1.29253423e+02 -2.57784119e+02]\n",
      " [-1.14568996e+02 -2.42978409e+02]\n",
      " [-2.69872841e+01 -9.68886762e+01]\n",
      " [-1.86869533e+01 -8.48244755e+01]\n",
      " [-2.13328773e+02 -3.94268783e+02]\n",
      " [-2.67477549e+02 -4.66990113e+02]\n",
      " [-6.96031472e+01 -1.53650473e+02]\n",
      " [-1.25436633e+02 -2.59841050e+02]\n",
      " [-2.72132213e+02 -4.64127495e+02]\n",
      " [-3.76618668e+02 -6.69511422e+02]\n",
      " [-1.05194035e+02 -2.19635852e+02]\n",
      " [-2.20442649e+02 -4.36967221e+02]\n",
      " [-1.65476474e+02 -3.06397211e+02]\n",
      " [-6.82109000e+01 -1.59977981e+02]\n",
      " [-5.80001065e+01 -1.20253733e+02]\n",
      " [-1.71288720e+02 -3.14570458e+02]\n",
      " [-1.18559044e+02 -2.46533676e+02]\n",
      " [ 2.18515290e+01 -2.73116893e+01]\n",
      " [-5.90602030e+00 -5.18786798e+01]\n",
      " [-1.19790739e+02 -2.62838689e+02]\n",
      " [-1.60751148e+02 -3.09075136e+02]\n",
      " [ 4.02816810e+01  5.42272981e+01]\n",
      " [-5.84675233e+01 -1.25623463e+02]\n",
      " [-1.54730308e+02 -2.95324821e+02]\n",
      " [-1.44017752e+02 -2.84004740e+02]\n",
      " [-1.00276152e+02 -2.16602186e+02]\n",
      " [-1.42074002e+02 -2.79346446e+02]\n",
      " [-2.54677618e+02 -4.45442151e+02]\n",
      " [-2.02057616e+02 -3.48823074e+02]\n",
      " [-2.66525007e+02 -4.44141727e+02]\n",
      " [-2.19191965e+02 -3.85247794e+02]\n",
      " [-3.03969863e+02 -5.49928385e+02]\n",
      " [-1.51823579e+02 -2.74263814e+02]\n",
      " [-1.70186538e+02 -3.32663009e+02]\n",
      " [-1.05471442e+02 -1.96911714e+02]\n",
      " [-2.63538873e+02 -4.51773668e+02]\n",
      " [-2.68287765e+02 -4.66507195e+02]\n",
      " [ 1.16067590e+02  1.95701441e+02]\n",
      " [ 3.82901872e+01  5.52829381e+01]\n",
      " [ 1.36923594e+02  2.63391771e+02]\n",
      " [ 5.60875780e+01  1.02612182e+02]\n",
      " [ 1.48770570e+02  2.91389443e+02]\n",
      " [ 1.89996556e+02  3.42981801e+02]\n",
      " [ 3.63235607e+01  5.86734066e+01]\n",
      " [ 1.28118419e+02  2.10288965e+02]\n",
      " [ 1.23483087e+02  2.03716682e+02]\n",
      " [ 1.19249855e+01 -1.01435751e+01]\n",
      " [ 6.20607775e+01 -1.56928064e+00]\n",
      " [-5.01544925e+01 -1.12984166e+02]\n",
      " [ 1.52766980e+02  3.00653534e+02]\n",
      " [ 1.31168443e+02  2.41978156e+02]\n",
      " [-1.36171111e+02 -1.97462383e+02]\n",
      " [-5.36841215e+01 -1.29231673e+02]\n",
      " [ 1.41069031e+02  2.85788420e+02]\n",
      " [ 1.59018458e+02  3.17538593e+02]\n",
      " [ 9.90163536e+01  2.25940926e+02]\n",
      " [ 3.34744196e+01 -2.23223518e+01]\n",
      " [ 1.23909536e+02  2.55247435e+02]\n",
      " [ 2.20797979e+02  4.13882344e+02]\n",
      " [ 8.18646712e+00  3.31884341e+01]\n",
      " [ 4.12567572e+01  1.10778865e+02]\n",
      " [ 1.14235092e+02  2.02499721e+02]\n",
      " [ 1.08835187e+02  1.99082817e+02]\n",
      " [ 1.32240164e+02  2.65690848e+02]\n",
      " [ 1.19257612e+02  2.22135420e+02]\n",
      " [ 8.15802597e+01  1.66182784e+02]\n",
      " [ 2.26737171e+01  6.39975490e+01]\n",
      " [ 3.67793584e+01  1.18939153e+02]\n",
      " [ 1.34137615e+02  2.31729872e+02]\n",
      " [ 1.40111833e+02  2.62179459e+02]\n",
      " [ 1.27901824e+02  2.18172906e+02]\n",
      " [ 2.05792304e+02  4.08092699e+02]\n",
      " [ 1.89014161e+02  3.54788327e+02]\n",
      " [-1.30990994e+02 -1.46495831e+02]\n",
      " [ 9.26346532e+01  8.82758552e+01]\n",
      " [ 1.46817965e+02  2.83609849e+02]\n",
      " [ 3.55983122e+01  7.96257227e+01]\n",
      " [ 1.56048100e+02  3.03394749e+02]\n",
      " [ 2.01096476e+01  3.11127147e+01]\n",
      " [ 8.32705960e+01  1.65264943e+02]\n",
      " [ 1.38583473e+02  2.75873073e+02]\n",
      " [ 1.50477156e+02  2.96172657e+02]\n",
      " [ 2.75615092e+01  7.04099158e+01]\n",
      " [ 1.96705326e+02  3.84630461e+02]\n",
      " [ 1.21631408e+02  2.04575488e+02]\n",
      " [ 1.27378368e+02  2.26092981e+02]\n",
      " [ 2.01334776e+02  3.85594316e+02]\n",
      " [ 3.15227148e+01  5.90552963e+01]\n",
      " [ 9.86568280e+01  1.56813683e+02]\n",
      " [ 1.90363854e+02  3.76687144e+02]\n",
      " [ 7.46065221e+01  1.18738734e+02]\n",
      " [ 1.45095431e+02  2.77535788e+02]\n",
      " [ 1.59736430e+02  3.25047562e+02]\n",
      " [ 1.51932228e+02  3.04426163e+02]\n",
      " [ 1.22847327e+02  2.20478756e+02]\n",
      " [ 1.98202554e+02  3.49949951e+02]\n",
      " [ 1.61226492e+02  3.38943366e+02]\n",
      " [ 8.06403484e+01  1.64352707e+02]\n",
      " [ 6.04720448e+01  1.05962687e+02]\n",
      " [ 1.06315838e+02  2.61273195e+02]\n",
      " [ 1.84745107e+02  3.34474286e+02]\n",
      " [ 1.64387576e+02  3.28288775e+02]\n",
      " [ 1.60234013e+02  3.30453742e+02]\n",
      " [ 1.63729399e+02  3.30850882e+02]\n",
      " [ 1.75512378e+02  3.53965270e+02]\n",
      " [ 1.29238529e+02  2.49565144e+02]\n",
      " [ 1.81283656e+02  3.62256681e+02]\n",
      " [ 6.77096685e+01  1.53249010e+02]\n",
      " [ 8.00970455e+01  8.94395504e+01]\n",
      " [ 9.60007181e+01  1.94009418e+02]\n",
      " [ 9.21872654e+01  1.62662894e+02]\n",
      " [ 8.01758893e+01  1.23658832e+02]\n",
      " [ 3.82887799e+01  8.95781942e+01]\n",
      " [ 2.48687601e+01  4.56241161e+01]\n",
      " [ 7.75623017e+00  2.65516856e+01]\n",
      " [ 1.04659268e+02  2.06819126e+02]\n",
      " [ 7.49547360e+01  1.49280691e+02]\n",
      " [ 8.06652025e+01  1.34791184e+02]\n",
      " [ 7.18842523e+01  1.28202409e+02]\n",
      " [-2.16567683e+01 -2.57296111e+01]\n",
      " [ 1.02473651e+02  2.02262135e+02]\n",
      " [ 9.22080684e+01  1.74080560e+02]\n",
      " [-4.27212761e+01 -1.00106085e+02]\n",
      " [-3.71699655e+01 -7.43822644e+01]\n",
      " [ 1.43656195e+02  2.99798214e+02]\n",
      " [ 5.12509903e+01  1.10985156e+02]\n",
      " [ 4.50108027e+01  8.59322535e+01]\n",
      " [ 1.08548685e+02  1.65005358e+02]\n",
      " [ 8.89060402e+01  2.30675454e+02]\n",
      " [ 1.06576064e+02  2.44507561e+02]\n",
      " [ 1.68362788e+02  2.75181409e+02]\n",
      " [ 3.82722775e+01  6.11307850e+01]\n",
      " [ 5.89541110e+01  8.96411585e+01]\n",
      " [ 8.84973187e+00  2.01957376e+01]\n",
      " [ 1.26340810e+02  2.35353159e+02]\n",
      " [-4.54311240e+01 -1.26748440e+02]\n",
      " [ 4.68689545e+01  7.35985369e+01]\n",
      " [ 5.58625306e+01  1.14161201e+02]\n",
      " [ 1.08817874e+02  1.99470093e+02]\n",
      " [ 4.37210086e+01  5.23656071e+01]\n",
      " [ 9.36534151e+01  1.50405852e+02]\n",
      " [ 4.52111358e+01  5.72511743e+01]\n",
      " [ 5.94777282e+01  1.17885428e+02]\n",
      " [ 1.07888697e+02  1.99912489e+02]\n",
      " [ 4.00496299e+01  3.72103301e+01]\n",
      " [ 2.38915024e+01  5.75180696e+01]\n",
      " [ 5.68144859e+00 -6.74280136e+00]\n",
      " [ 7.16219786e+01  9.41438214e+01]\n",
      " [ 1.08294243e+02  2.10608832e+02]\n",
      " [ 1.35180537e+02  2.42228722e+02]\n",
      " [ 3.95620209e+01  7.75195958e+01]\n",
      " [ 2.74626791e+00  6.42404773e+00]\n",
      " [ 3.31185344e+00 -5.37990387e+00]\n",
      " [-2.89558546e+01 -8.49912385e+01]\n",
      " [-3.32721720e+01 -8.83689515e+01]\n",
      " [ 9.07371805e+01  1.63463702e+02]]\n"
     ]
    }
   ],
   "source": [
    "#MDS Part\n",
    "mds = MDS(random_state=0)\n",
    "X_transform = mds.fit_transform(df)\n",
    "print(X_transform)"
   ]
  },
  {
   "cell_type": "code",
   "execution_count": 34,
   "metadata": {},
   "outputs": [
    {
     "name": "stdout",
     "output_type": "stream",
     "text": [
      "33970.44992254212\n"
     ]
    }
   ],
   "source": [
    "stress = mds.stress_\n",
    "print(stress)"
   ]
  },
  {
   "cell_type": "code",
   "execution_count": 35,
   "metadata": {},
   "outputs": [
    {
     "data": {
      "image/png": "[encoded data removed]",
      "text/plain": [
       "<Figure size 720x288 with 1 Axes>"
      ]
     },
     "metadata": {
      "needs_background": "light"
     },
     "output_type": "display_data"
    }
   ],
   "source": [
    "fig = plt.figure(2, (10,4))\n",
    "ax = fig.add_subplot(122)\n",
    "plt.scatter(X_transform[:,0], X_transform[:,1], c=target)\n",
    "plt.title('Embedding in 2D')\n",
    "fig.subplots_adjust(wspace=.4, hspace=0.5)\n",
    "plt.show()"
   ]
  }
 ],
 "metadata": {
  "kernelspec": {
   "display_name": "Python 3",
   "language": "python",
   "name": "python3"
  },
  "language_info": {
   "codemirror_mode": {
    "name": "ipython",
    "version": 3
   },
   "file_extension": ".py",
   "mimetype": "text/x-python",
   "name": "python",
   "nbconvert_exporter": "python",
   "pygments_lexer": "ipython3",
   "version": "3.8.5"
  }
 },
 "nbformat": 4,
 "nbformat_minor": 4
}
